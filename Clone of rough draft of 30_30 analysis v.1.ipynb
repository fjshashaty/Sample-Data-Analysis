{
 "cells":[
  {
   "cell_type":"code",
   "source":[
    "import pandas as pd\n",
    "\n",
    "\n",
    "df = pd.read_csv('gc3030.csv')\n",
    "\n",
    "# Rename columns\n",
    "df.rename(columns={'watts': 'power', 'cad': 'cadence', 'secs': 'time'}, inplace=True)"
   ],
   "execution_count":22,
   "outputs":[
    
   ],
   "metadata":{
    "datalore":{
     "node_id":"kSaYTUZmwOj0fmY3vA4MXG",
     "type":"CODE",
     "hide_input_from_viewers":true,
     "hide_output_from_viewers":true
    }
   }
  },
  {
   "cell_type":"code",
   "source":[
    "#convert to datetime\n",
    "df['time'] = pd.to_datetime(df['time'], unit='s')"
   ],
   "execution_count":23,
   "outputs":[
    
   ],
   "metadata":{
    "datalore":{
     "node_id":"hdzwYcWr3Dms4mg1E2QTVd",
     "type":"CODE",
     "hide_input_from_viewers":true,
     "hide_output_from_viewers":true
    }
   }
  },
  {
   "cell_type":"code",
   "source":[
    "#calculate 30s power averages\n",
    "df['30s_avg_power'] = df['power'].rolling(window=30).mean()\n",
    "\n",
    "print(df['30s_avg_power'])"
   ],
   "execution_count":24,
   "outputs":[
    {
     "name":"stdout",
     "text":[
      "0              NaN\n",
      "1              NaN\n",
      "2              NaN\n",
      "3              NaN\n",
      "4              NaN\n",
      "           ...    \n",
      "12569    54.600000\n",
      "12570    53.600000\n",
      "12571    52.600000\n",
      "12572    54.633333\n",
      "12573    54.633333\n",
      "Name: 30s_avg_power, Length: 12574, dtype: float64\n"
     ],
     "output_type":"stream"
    }
   ],
   "metadata":{
    "datalore":{
     "node_id":"COUwl3vocP5HQR4bgAyOIp",
     "type":"CODE",
     "hide_input_from_viewers":true,
     "hide_output_from_viewers":true
    }
   }
  },
  {
   "cell_type":"code",
   "source":[
    "#calculate 10 minute average power and identify top 5\n",
    "df['10min_avg_power'] = df['power'].rolling(window=600).mean()\n",
    "print(df['10min_avg_power'])\n",
    "\n",
    "# Identify top 5 highest average power for separate 10-minute intervals\n",
    "top_5_10min_avg = df.groupby(df['time'].dt.floor('10min'))['10min_avg_power'].mean().nlargest(5)\n",
    "print(top_5_10min_avg)"
   ],
   "execution_count":25,
   "outputs":[
    {
     "name":"stdout",
     "text":[
      "0              NaN\n",
      "1              NaN\n",
      "2              NaN\n",
      "3              NaN\n",
      "4              NaN\n",
      "           ...    \n",
      "12569    47.955000\n",
      "12570    48.056667\n",
      "12571    48.158333\n",
      "12572    48.260000\n",
      "12573    48.260000\n",
      "Name: 10min_avg_power, Length: 12574, dtype: float64\n",
      "time\n",
      "1970-01-01 02:20:00    271.160282\n",
      "1970-01-01 03:40:00    246.309219\n",
      "1970-01-01 03:00:00    238.384464\n",
      "1970-01-01 03:10:00    238.248686\n",
      "1970-01-01 02:10:00    235.544547\n",
      "Name: 10min_avg_power, dtype: float64\n"
     ],
     "output_type":"stream"
    }
   ],
   "metadata":{
    "datalore":{
     "node_id":"LKFk34lDprXu25Kd4EKyI4",
     "type":"CODE",
     "hide_input_from_viewers":true,
     "hide_output_from_viewers":true
    }
   }
  },
  {
   "cell_type":"code",
   "source":[
    "#analyze 10 minute intervals with 30s details\n",
    "# Group by 10-minute intervals and calculate statistics for each 30-second time frame\n",
    "results_df= df.groupby(df['time'].dt.floor('10min')).apply(lambda x: {\n",
    "    'average_power': x['power'].mean(),\n",
    "    'min_power': x['power'].min(),\n",
    "    'max_power': x['power'].max(),\n",
    "    'average_cadence': x['cadence'].mean()\n",
    "})\n",
    "\n",
    "# Display the resulting DataFrame\n",
    "print(results_df)"
   ],
   "execution_count":26,
   "outputs":[
    {
     "name":"stdout",
     "text":[
      "time\n",
      "1970-01-01 00:00:00    {'average_power': 150.82303839732887, 'min_pow...\n",
      "1970-01-01 00:10:00    {'average_power': 140.06134969325154, 'min_pow...\n",
      "1970-01-01 00:20:00    {'average_power': 134.39166666666668, 'min_pow...\n",
      "1970-01-01 00:30:00    {'average_power': 171.98333333333332, 'min_pow...\n",
      "1970-01-01 00:40:00    {'average_power': 186.81666666666666, 'min_pow...\n",
      "1970-01-01 00:50:00    {'average_power': 144.70343580470163, 'min_pow...\n",
      "1970-01-01 01:00:00    {'average_power': 174.505, 'min_power': 0.0, '...\n",
      "1970-01-01 01:10:00    {'average_power': 188.05333333333334, 'min_pow...\n",
      "1970-01-01 01:20:00    {'average_power': 171.335, 'min_power': 0.0, '...\n",
      "1970-01-01 01:30:00    {'average_power': 167.66720257234726, 'min_pow...\n",
      "1970-01-01 01:40:00    {'average_power': 178.6054054054054, 'min_powe...\n",
      "1970-01-01 01:50:00    {'average_power': 194.47666666666666, 'min_pow...\n",
      "1970-01-01 02:00:00    {'average_power': 184.49563699755672, 'min_pow...\n",
      "1970-01-01 02:10:00    {'average_power': 260.375, 'min_power': 0.0, '...\n",
      "1970-01-01 02:20:00    {'average_power': 265.4932432432432, 'min_powe...\n",
      "1970-01-01 02:40:00    {'average_power': 154.22764227642276, 'min_pow...\n",
      "1970-01-01 02:50:00    {'average_power': 172.355, 'min_power': 0.0, '...\n",
      "1970-01-01 03:00:00    {'average_power': 286.70166666666665, 'min_pow...\n",
      "1970-01-01 03:10:00    {'average_power': 157.10166666666666, 'min_pow...\n",
      "1970-01-01 03:20:00    {'average_power': 126.20616113744076, 'min_pow...\n",
      "1970-01-01 03:30:00    {'average_power': 267.46365422396855, 'min_pow...\n",
      "1970-01-01 03:40:00    {'average_power': 175.11, 'min_power': 0.0, 'm...\n",
      "1970-01-01 03:50:00    {'average_power': 57.48039215686274, 'min_powe...\n",
      "1970-01-01 04:00:00    {'average_power': 41.31531531531532, 'min_powe...\n",
      "1970-01-01 04:10:00    {'average_power': 61.44, 'min_power': 0.0, 'ma...\n",
      "dtype: object\n"
     ],
     "output_type":"stream"
    }
   ],
   "metadata":{
    "datalore":{
     "node_id":"eJTIYeiF7fYhrqdpGprf10",
     "type":"CODE",
     "hide_input_from_viewers":true,
     "hide_output_from_viewers":true
    }
   }
  },
  {
   "cell_type":"code",
   "source":[
    "# Assuming you have already performed the calculations mentioned in the previous steps\n",
    "\n",
    "# Print the DataFrame with 30-second power averages\n",
    "print(df[['time', 'power', '30s_avg_power']])"
   ],
   "execution_count":27,
   "outputs":[
    {
     "name":"stdout",
     "text":[
      "                     time  power  30s_avg_power\n",
      "0     1970-01-01 00:00:01  212.0            NaN\n",
      "1     1970-01-01 00:00:02  296.0            NaN\n",
      "2     1970-01-01 00:00:03  295.0            NaN\n",
      "3     1970-01-01 00:00:04  222.0            NaN\n",
      "4     1970-01-01 00:00:05  186.0            NaN\n",
      "...                   ...    ...            ...\n",
      "12569 1970-01-01 04:10:45    0.0      54.600000\n",
      "12570 1970-01-01 04:10:46   61.0      53.600000\n",
      "12571 1970-01-01 04:10:47   61.0      52.600000\n",
      "12572 1970-01-01 04:10:48   61.0      54.633333\n",
      "12573 1970-01-01 04:10:49    0.0      54.633333\n",
      "\n",
      "[12574 rows x 3 columns]\n"
     ],
     "output_type":"stream"
    }
   ],
   "metadata":{
    "datalore":{
     "node_id":"GteK89gF1izSuZbdQWMvNr",
     "type":"CODE",
     "hide_input_from_viewers":true,
     "hide_output_from_viewers":true
    }
   }
  },
  {
   "cell_type":"code",
   "source":[
    "# Assuming you have already performed the calculations mentioned in the previous steps\n",
    "\n",
    "# Print the DataFrame with 10-minute average power\n",
    "print(df[['time', 'power', '10min_avg_power']])\n",
    "\n",
    "# Identify top 5 highest 10-minute average power\n",
    "top_5_10min_avg = df.groupby(df['time'].dt.floor('10min'))['10min_avg_power'].mean().nlargest(5)\n",
    "print(\"Top 5 Highest 10-Minute Average Power:\")\n",
    "print(top_5_10min_avg)"
   ],
   "execution_count":28,
   "outputs":[
    {
     "name":"stdout",
     "text":[
      "                     time  power  10min_avg_power\n",
      "0     1970-01-01 00:00:01  212.0              NaN\n",
      "1     1970-01-01 00:00:02  296.0              NaN\n",
      "2     1970-01-01 00:00:03  295.0              NaN\n",
      "3     1970-01-01 00:00:04  222.0              NaN\n",
      "4     1970-01-01 00:00:05  186.0              NaN\n",
      "...                   ...    ...              ...\n",
      "12569 1970-01-01 04:10:45    0.0        47.955000\n",
      "12570 1970-01-01 04:10:46   61.0        48.056667\n",
      "12571 1970-01-01 04:10:47   61.0        48.158333\n",
      "12572 1970-01-01 04:10:48   61.0        48.260000\n",
      "12573 1970-01-01 04:10:49    0.0        48.260000\n",
      "\n",
      "[12574 rows x 3 columns]\n",
      "Top 5 Highest 10-Minute Average Power:\n",
      "time\n",
      "1970-01-01 02:20:00    271.160282\n",
      "1970-01-01 03:40:00    246.309219\n",
      "1970-01-01 03:00:00    238.384464\n",
      "1970-01-01 03:10:00    238.248686\n",
      "1970-01-01 02:10:00    235.544547\n",
      "Name: 10min_avg_power, dtype: float64\n"
     ],
     "output_type":"stream"
    }
   ],
   "metadata":{
    "datalore":{
     "node_id":"xh151RDpP9DUVwsrqhj3HQ",
     "type":"CODE",
     "hide_input_from_viewers":true,
     "hide_output_from_viewers":true
    }
   }
  },
  {
   "cell_type":"code",
   "source":[
    
   ],
   "execution_count":0,
   "outputs":[
    
   ],
   "metadata":{
    "datalore":{
     "node_id":"LDF9I3zjTbzCwJ7n0HVyfn",
     "type":"CODE",
     "hide_input_from_viewers":true,
     "hide_output_from_viewers":true
    }
   }
  }
 ],
 "metadata":{
  "kernelspec":{
   "display_name":"Python",
   "language":"python",
   "name":"python"
  },
  "datalore":{
   "computation_mode":"JUPYTER",
   "package_manager":"pip",
   "base_environment":"default",
   "packages":[
    {
     "name":"yfinance",
     "version":"0.2.32",
     "source":"PIP"
    }
   ],
   "report_row_ids":[
    
   ],
   "version":3
  }
 },
 "nbformat":4,
 "nbformat_minor":4
}